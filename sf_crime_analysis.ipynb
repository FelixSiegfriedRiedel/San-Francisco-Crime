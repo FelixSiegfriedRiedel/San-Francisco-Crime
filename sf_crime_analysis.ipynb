{
 "cells": [
  {
   "cell_type": "markdown",
   "source": [
    "# Aufgabenstellung\n",
    "\n",
    "Kategorien der Verbrechen in San Francisco sollen vorhergesagt werden.\n",
    "Dabei werden die Kategorien *Larceny/Theft*, *Assault*, *Drug/Narcotic*, *Vehicle Theft* und *Burglary* betrachtet\n",
    "\n",
    "Zur Vorhersage soll **eine** dieser Methoden verwendet werden: Regression, Klassifikation oder Clustering\n",
    "\n"
   ],
   "metadata": {
    "collapsed": false
   },
   "id": "3277ccb69e27e44c"
  },
  {
   "cell_type": "markdown",
   "source": [
    "# Import"
   ],
   "metadata": {
    "collapsed": false
   },
   "id": "ec6d0c37b01b6ca6"
  },
  {
   "cell_type": "code",
   "execution_count": 4,
   "outputs": [
    {
     "name": "stdout",
     "output_type": "stream",
     "text": [
      "data\\sampleSubmission.csv\n",
      "data\\test.csv\n",
      "data\\train.csv\n"
     ]
    }
   ],
   "source": [
    "import pandas as pd\n",
    "import numpy as np\n",
    "\n",
    "import os\n",
    "for dirname, _, filenames in os.walk('data'):\n",
    "    for filename in filenames:\n",
    "        print(os.path.join(dirname, filename))"
   ],
   "metadata": {
    "collapsed": false,
    "ExecuteTime": {
     "end_time": "2023-12-06T13:59:24.556895900Z",
     "start_time": "2023-12-06T13:59:21.993504500Z"
    }
   },
   "id": "a54d6aca128a082d"
  },
  {
   "cell_type": "code",
   "execution_count": 5,
   "outputs": [
    {
     "data": {
      "text/plain": "                 Dates        Category                      Descript  \\\n0  2015-05-13 23:53:00        WARRANTS                WARRANT ARREST   \n1  2015-05-13 23:53:00  OTHER OFFENSES      TRAFFIC VIOLATION ARREST   \n2  2015-05-13 23:33:00  OTHER OFFENSES      TRAFFIC VIOLATION ARREST   \n3  2015-05-13 23:30:00   LARCENY/THEFT  GRAND THEFT FROM LOCKED AUTO   \n4  2015-05-13 23:30:00   LARCENY/THEFT  GRAND THEFT FROM LOCKED AUTO   \n\n   DayOfWeek PdDistrict      Resolution                    Address  \\\n0  Wednesday   NORTHERN  ARREST, BOOKED         OAK ST / LAGUNA ST   \n1  Wednesday   NORTHERN  ARREST, BOOKED         OAK ST / LAGUNA ST   \n2  Wednesday   NORTHERN  ARREST, BOOKED  VANNESS AV / GREENWICH ST   \n3  Wednesday   NORTHERN            NONE   1500 Block of LOMBARD ST   \n4  Wednesday       PARK            NONE  100 Block of BRODERICK ST   \n\n            X          Y  \n0 -122.425892  37.774599  \n1 -122.425892  37.774599  \n2 -122.424363  37.800414  \n3 -122.426995  37.800873  \n4 -122.438738  37.771541  ",
      "text/html": "<div>\n<style scoped>\n    .dataframe tbody tr th:only-of-type {\n        vertical-align: middle;\n    }\n\n    .dataframe tbody tr th {\n        vertical-align: top;\n    }\n\n    .dataframe thead th {\n        text-align: right;\n    }\n</style>\n<table border=\"1\" class=\"dataframe\">\n  <thead>\n    <tr style=\"text-align: right;\">\n      <th></th>\n      <th>Dates</th>\n      <th>Category</th>\n      <th>Descript</th>\n      <th>DayOfWeek</th>\n      <th>PdDistrict</th>\n      <th>Resolution</th>\n      <th>Address</th>\n      <th>X</th>\n      <th>Y</th>\n    </tr>\n  </thead>\n  <tbody>\n    <tr>\n      <th>0</th>\n      <td>2015-05-13 23:53:00</td>\n      <td>WARRANTS</td>\n      <td>WARRANT ARREST</td>\n      <td>Wednesday</td>\n      <td>NORTHERN</td>\n      <td>ARREST, BOOKED</td>\n      <td>OAK ST / LAGUNA ST</td>\n      <td>-122.425892</td>\n      <td>37.774599</td>\n    </tr>\n    <tr>\n      <th>1</th>\n      <td>2015-05-13 23:53:00</td>\n      <td>OTHER OFFENSES</td>\n      <td>TRAFFIC VIOLATION ARREST</td>\n      <td>Wednesday</td>\n      <td>NORTHERN</td>\n      <td>ARREST, BOOKED</td>\n      <td>OAK ST / LAGUNA ST</td>\n      <td>-122.425892</td>\n      <td>37.774599</td>\n    </tr>\n    <tr>\n      <th>2</th>\n      <td>2015-05-13 23:33:00</td>\n      <td>OTHER OFFENSES</td>\n      <td>TRAFFIC VIOLATION ARREST</td>\n      <td>Wednesday</td>\n      <td>NORTHERN</td>\n      <td>ARREST, BOOKED</td>\n      <td>VANNESS AV / GREENWICH ST</td>\n      <td>-122.424363</td>\n      <td>37.800414</td>\n    </tr>\n    <tr>\n      <th>3</th>\n      <td>2015-05-13 23:30:00</td>\n      <td>LARCENY/THEFT</td>\n      <td>GRAND THEFT FROM LOCKED AUTO</td>\n      <td>Wednesday</td>\n      <td>NORTHERN</td>\n      <td>NONE</td>\n      <td>1500 Block of LOMBARD ST</td>\n      <td>-122.426995</td>\n      <td>37.800873</td>\n    </tr>\n    <tr>\n      <th>4</th>\n      <td>2015-05-13 23:30:00</td>\n      <td>LARCENY/THEFT</td>\n      <td>GRAND THEFT FROM LOCKED AUTO</td>\n      <td>Wednesday</td>\n      <td>PARK</td>\n      <td>NONE</td>\n      <td>100 Block of BRODERICK ST</td>\n      <td>-122.438738</td>\n      <td>37.771541</td>\n    </tr>\n  </tbody>\n</table>\n</div>"
     },
     "execution_count": 5,
     "metadata": {},
     "output_type": "execute_result"
    }
   ],
   "source": [
    "train = pd.read_csv(\"data/train.csv\")\n",
    "test = pd.read_csv(\"data/test.csv\")\n",
    "\n",
    "train.head()\n"
   ],
   "metadata": {
    "collapsed": false,
    "ExecuteTime": {
     "end_time": "2023-12-06T13:59:28.652486900Z",
     "start_time": "2023-12-06T13:59:24.554897800Z"
    }
   },
   "id": "1d1e6d074816ca88"
  },
  {
   "cell_type": "markdown",
   "source": [
    "# Exploration"
   ],
   "metadata": {
    "collapsed": false
   },
   "id": "1d9ac35d4104ea93"
  },
  {
   "cell_type": "markdown",
   "source": [
    "## Selektion\n",
    "\n",
    "Die Daten werden so gefiltert, dass nur *Larceny/Theft*, *Assault*, *Drug/Narcotic*, *Vehicle Theft* und *Burglary* als Kategorien vertreten sind."
   ],
   "metadata": {
    "collapsed": false
   },
   "id": "b82dea53c431518c"
  },
  {
   "cell_type": "code",
   "execution_count": 8,
   "outputs": [
    {
     "data": {
      "text/plain": "array(['LARCENY/THEFT', 'VEHICLE THEFT', 'ASSAULT', 'BURGLARY',\n       'DRUG/NARCOTIC'], dtype=object)"
     },
     "execution_count": 8,
     "metadata": {},
     "output_type": "execute_result"
    }
   ],
   "source": [
    "train[\"Category\"].unique()"
   ],
   "metadata": {
    "collapsed": false,
    "ExecuteTime": {
     "end_time": "2023-12-06T13:59:44.905781600Z",
     "start_time": "2023-12-06T13:59:44.828599700Z"
    }
   },
   "id": "9e1bc86ca9ae860a"
  },
  {
   "cell_type": "code",
   "execution_count": 10,
   "outputs": [
    {
     "data": {
      "text/plain": "                 Dates       Category                        Descript  \\\n3  2015-05-13 23:30:00  LARCENY/THEFT    GRAND THEFT FROM LOCKED AUTO   \n4  2015-05-13 23:30:00  LARCENY/THEFT    GRAND THEFT FROM LOCKED AUTO   \n5  2015-05-13 23:30:00  LARCENY/THEFT  GRAND THEFT FROM UNLOCKED AUTO   \n6  2015-05-13 23:30:00  VEHICLE THEFT               STOLEN AUTOMOBILE   \n7  2015-05-13 23:30:00  VEHICLE THEFT               STOLEN AUTOMOBILE   \n\n   DayOfWeek PdDistrict Resolution                    Address           X  \\\n3  Wednesday   NORTHERN       NONE   1500 Block of LOMBARD ST -122.426995   \n4  Wednesday       PARK       NONE  100 Block of BRODERICK ST -122.438738   \n5  Wednesday  INGLESIDE       NONE        0 Block of TEDDY AV -122.403252   \n6  Wednesday  INGLESIDE       NONE        AVALON AV / PERU AV -122.423327   \n7  Wednesday    BAYVIEW       NONE   KIRKWOOD AV / DONAHUE ST -122.371274   \n\n           Y  \n3  37.800873  \n4  37.771541  \n5  37.713431  \n6  37.725138  \n7  37.727564  ",
      "text/html": "<div>\n<style scoped>\n    .dataframe tbody tr th:only-of-type {\n        vertical-align: middle;\n    }\n\n    .dataframe tbody tr th {\n        vertical-align: top;\n    }\n\n    .dataframe thead th {\n        text-align: right;\n    }\n</style>\n<table border=\"1\" class=\"dataframe\">\n  <thead>\n    <tr style=\"text-align: right;\">\n      <th></th>\n      <th>Dates</th>\n      <th>Category</th>\n      <th>Descript</th>\n      <th>DayOfWeek</th>\n      <th>PdDistrict</th>\n      <th>Resolution</th>\n      <th>Address</th>\n      <th>X</th>\n      <th>Y</th>\n    </tr>\n  </thead>\n  <tbody>\n    <tr>\n      <th>3</th>\n      <td>2015-05-13 23:30:00</td>\n      <td>LARCENY/THEFT</td>\n      <td>GRAND THEFT FROM LOCKED AUTO</td>\n      <td>Wednesday</td>\n      <td>NORTHERN</td>\n      <td>NONE</td>\n      <td>1500 Block of LOMBARD ST</td>\n      <td>-122.426995</td>\n      <td>37.800873</td>\n    </tr>\n    <tr>\n      <th>4</th>\n      <td>2015-05-13 23:30:00</td>\n      <td>LARCENY/THEFT</td>\n      <td>GRAND THEFT FROM LOCKED AUTO</td>\n      <td>Wednesday</td>\n      <td>PARK</td>\n      <td>NONE</td>\n      <td>100 Block of BRODERICK ST</td>\n      <td>-122.438738</td>\n      <td>37.771541</td>\n    </tr>\n    <tr>\n      <th>5</th>\n      <td>2015-05-13 23:30:00</td>\n      <td>LARCENY/THEFT</td>\n      <td>GRAND THEFT FROM UNLOCKED AUTO</td>\n      <td>Wednesday</td>\n      <td>INGLESIDE</td>\n      <td>NONE</td>\n      <td>0 Block of TEDDY AV</td>\n      <td>-122.403252</td>\n      <td>37.713431</td>\n    </tr>\n    <tr>\n      <th>6</th>\n      <td>2015-05-13 23:30:00</td>\n      <td>VEHICLE THEFT</td>\n      <td>STOLEN AUTOMOBILE</td>\n      <td>Wednesday</td>\n      <td>INGLESIDE</td>\n      <td>NONE</td>\n      <td>AVALON AV / PERU AV</td>\n      <td>-122.423327</td>\n      <td>37.725138</td>\n    </tr>\n    <tr>\n      <th>7</th>\n      <td>2015-05-13 23:30:00</td>\n      <td>VEHICLE THEFT</td>\n      <td>STOLEN AUTOMOBILE</td>\n      <td>Wednesday</td>\n      <td>BAYVIEW</td>\n      <td>NONE</td>\n      <td>KIRKWOOD AV / DONAHUE ST</td>\n      <td>-122.371274</td>\n      <td>37.727564</td>\n    </tr>\n  </tbody>\n</table>\n</div>"
     },
     "execution_count": 10,
     "metadata": {},
     "output_type": "execute_result"
    }
   ],
   "source": [
    "categories = [i.upper() for i in [\"Larceny/Theft\", \"Assault\", \"Drug/Narcotic\", \"Vehicle Theft\", \"Burglary\"]]\n",
    "\n",
    "train = train.loc[train[\"Category\"].isin(categories)]\n",
    "\n",
    "train.head()"
   ],
   "metadata": {
    "collapsed": false,
    "ExecuteTime": {
     "end_time": "2023-12-06T14:00:35.208681800Z",
     "start_time": "2023-12-06T14:00:35.050996700Z"
    }
   },
   "id": "a9a789ed0a9d9a24"
  },
  {
   "cell_type": "markdown",
   "source": [
    "## Datentypen"
   ],
   "metadata": {
    "collapsed": false
   },
   "id": "c1c7dbbc53881f1d"
  },
  {
   "cell_type": "code",
   "execution_count": null,
   "outputs": [],
   "source": [
    "train.dtypes"
   ],
   "metadata": {
    "collapsed": false,
    "ExecuteTime": {
     "start_time": "2023-12-06T13:59:33.231688400Z"
    }
   },
   "id": "2a00e9cba968098"
  },
  {
   "cell_type": "markdown",
   "source": [
    "Hier kann man einige Datentypen konvertieren:\n",
    "\n",
    "Dates -> DateTime\n",
    "Category -> String\n",
    "Descript -> String\n",
    "DayOfWeek -> String\n",
    "PdDistrict -> String\n",
    "Resolution -> String\n",
    "\n",
    "neue Spalte für CategoryID als Integer\n",
    "neue Spalte für PdDisctrictID als Integer\n",
    "neue Spalte für DayOfWeekID als Integer\n",
    "neue Spalte für ResolutionID als Integer"
   ],
   "metadata": {
    "collapsed": false
   },
   "id": "96ece0cb2fbae3b"
  },
  {
   "cell_type": "markdown",
   "source": [
    "## Fehlende Werte"
   ],
   "metadata": {
    "collapsed": false
   },
   "id": "fb8da20bb2e82aaf"
  },
  {
   "cell_type": "code",
   "execution_count": null,
   "outputs": [],
   "source": [
    "train.isnull().sum()"
   ],
   "metadata": {
    "collapsed": false,
    "ExecuteTime": {
     "start_time": "2023-12-06T13:59:33.238724600Z"
    }
   },
   "id": "98c75e616b8fe6c5"
  },
  {
   "cell_type": "markdown",
   "source": [
    "Wie oben zu sehen, gibt es keine fehlenden Werte in diesem Datensatz\n",
    "\n"
   ],
   "metadata": {
    "collapsed": false
   },
   "id": "8abf57f2c9d9e20"
  },
  {
   "cell_type": "code",
   "execution_count": null,
   "outputs": [],
   "source": [
    "train[\"Category\"].unique()"
   ],
   "metadata": {
    "collapsed": false,
    "ExecuteTime": {
     "end_time": "2023-12-06T13:59:33.245689Z",
     "start_time": "2023-12-06T13:59:33.242697800Z"
    }
   },
   "id": "8f667ec945ea30b8"
  },
  {
   "cell_type": "code",
   "execution_count": null,
   "outputs": [],
   "source": [],
   "metadata": {
    "collapsed": false,
    "ExecuteTime": {
     "start_time": "2023-12-06T13:59:33.246689100Z"
    }
   },
   "id": "d9fece9371c5d70a"
  }
 ],
 "metadata": {
  "kernelspec": {
   "display_name": "Python 3",
   "language": "python",
   "name": "python3"
  },
  "language_info": {
   "codemirror_mode": {
    "name": "ipython",
    "version": 2
   },
   "file_extension": ".py",
   "mimetype": "text/x-python",
   "name": "python",
   "nbconvert_exporter": "python",
   "pygments_lexer": "ipython2",
   "version": "2.7.6"
  }
 },
 "nbformat": 4,
 "nbformat_minor": 5
}
