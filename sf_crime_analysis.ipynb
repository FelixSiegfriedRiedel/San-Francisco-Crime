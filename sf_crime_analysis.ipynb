{
 "cells": [
  {
   "cell_type": "markdown",
   "source": [
    "# Aufgabenstellung\n",
    "\n",
    "Kategorien der Verbrechen in San Francisco sollen vorhergesagt werden.\n",
    "Dabei werden die Kategorien *Larceny/Theft*, *Assault*, *Drug/Narcotic*, *Vehicle Theft* und *Burglary* betrachtet\n",
    "Zur Vorhersage soll **eine** dieser Methoden verwendet werden: Regression, Klassifikation oder Clustering\n",
    "\n"
   ],
   "metadata": {
    "collapsed": false
   },
   "id": "3277ccb69e27e44c"
  },
  {
   "cell_type": "markdown",
   "source": [
    "# Import"
   ],
   "metadata": {
    "collapsed": false
   },
   "id": "ec6d0c37b01b6ca6"
  },
  {
   "cell_type": "code",
   "execution_count": 3,
   "outputs": [
    {
     "name": "stdout",
     "output_type": "stream",
     "text": [
      "data\\sampleSubmission.csv\n",
      "data\\test.csv\n",
      "data\\train.csv\n"
     ]
    }
   ],
   "source": [
    "import pandas as pd\n",
    "import numpy as np\n",
    "\n",
    "import os\n",
    "for dirname, _, filenames in os.walk('data'):\n",
    "    for filename in filenames:\n",
    "        print(os.path.join(dirname, filename))"
   ],
   "metadata": {
    "collapsed": false,
    "ExecuteTime": {
     "start_time": "2023-12-06T12:31:29.970036Z"
    }
   },
   "id": "a54d6aca128a082d"
  },
  {
   "cell_type": "code",
   "execution_count": 12,
   "outputs": [
    {
     "data": {
      "text/plain": "                 Dates        Category                      Descript  \\\n0  2015-05-13 23:53:00        WARRANTS                WARRANT ARREST   \n1  2015-05-13 23:53:00  OTHER OFFENSES      TRAFFIC VIOLATION ARREST   \n2  2015-05-13 23:33:00  OTHER OFFENSES      TRAFFIC VIOLATION ARREST   \n3  2015-05-13 23:30:00   LARCENY/THEFT  GRAND THEFT FROM LOCKED AUTO   \n4  2015-05-13 23:30:00   LARCENY/THEFT  GRAND THEFT FROM LOCKED AUTO   \n\n   DayOfWeek PdDistrict      Resolution                    Address  \\\n0  Wednesday   NORTHERN  ARREST, BOOKED         OAK ST / LAGUNA ST   \n1  Wednesday   NORTHERN  ARREST, BOOKED         OAK ST / LAGUNA ST   \n2  Wednesday   NORTHERN  ARREST, BOOKED  VANNESS AV / GREENWICH ST   \n3  Wednesday   NORTHERN            NONE   1500 Block of LOMBARD ST   \n4  Wednesday       PARK            NONE  100 Block of BRODERICK ST   \n\n            X          Y  \n0 -122.425892  37.774599  \n1 -122.425892  37.774599  \n2 -122.424363  37.800414  \n3 -122.426995  37.800873  \n4 -122.438738  37.771541  ",
      "text/html": "<div>\n<style scoped>\n    .dataframe tbody tr th:only-of-type {\n        vertical-align: middle;\n    }\n\n    .dataframe tbody tr th {\n        vertical-align: top;\n    }\n\n    .dataframe thead th {\n        text-align: right;\n    }\n</style>\n<table border=\"1\" class=\"dataframe\">\n  <thead>\n    <tr style=\"text-align: right;\">\n      <th></th>\n      <th>Dates</th>\n      <th>Category</th>\n      <th>Descript</th>\n      <th>DayOfWeek</th>\n      <th>PdDistrict</th>\n      <th>Resolution</th>\n      <th>Address</th>\n      <th>X</th>\n      <th>Y</th>\n    </tr>\n  </thead>\n  <tbody>\n    <tr>\n      <th>0</th>\n      <td>2015-05-13 23:53:00</td>\n      <td>WARRANTS</td>\n      <td>WARRANT ARREST</td>\n      <td>Wednesday</td>\n      <td>NORTHERN</td>\n      <td>ARREST, BOOKED</td>\n      <td>OAK ST / LAGUNA ST</td>\n      <td>-122.425892</td>\n      <td>37.774599</td>\n    </tr>\n    <tr>\n      <th>1</th>\n      <td>2015-05-13 23:53:00</td>\n      <td>OTHER OFFENSES</td>\n      <td>TRAFFIC VIOLATION ARREST</td>\n      <td>Wednesday</td>\n      <td>NORTHERN</td>\n      <td>ARREST, BOOKED</td>\n      <td>OAK ST / LAGUNA ST</td>\n      <td>-122.425892</td>\n      <td>37.774599</td>\n    </tr>\n    <tr>\n      <th>2</th>\n      <td>2015-05-13 23:33:00</td>\n      <td>OTHER OFFENSES</td>\n      <td>TRAFFIC VIOLATION ARREST</td>\n      <td>Wednesday</td>\n      <td>NORTHERN</td>\n      <td>ARREST, BOOKED</td>\n      <td>VANNESS AV / GREENWICH ST</td>\n      <td>-122.424363</td>\n      <td>37.800414</td>\n    </tr>\n    <tr>\n      <th>3</th>\n      <td>2015-05-13 23:30:00</td>\n      <td>LARCENY/THEFT</td>\n      <td>GRAND THEFT FROM LOCKED AUTO</td>\n      <td>Wednesday</td>\n      <td>NORTHERN</td>\n      <td>NONE</td>\n      <td>1500 Block of LOMBARD ST</td>\n      <td>-122.426995</td>\n      <td>37.800873</td>\n    </tr>\n    <tr>\n      <th>4</th>\n      <td>2015-05-13 23:30:00</td>\n      <td>LARCENY/THEFT</td>\n      <td>GRAND THEFT FROM LOCKED AUTO</td>\n      <td>Wednesday</td>\n      <td>PARK</td>\n      <td>NONE</td>\n      <td>100 Block of BRODERICK ST</td>\n      <td>-122.438738</td>\n      <td>37.771541</td>\n    </tr>\n  </tbody>\n</table>\n</div>"
     },
     "execution_count": 12,
     "metadata": {},
     "output_type": "execute_result"
    }
   ],
   "source": [
    "train = pd.read_csv(\"data/train.csv\")\n",
    "test = pd.read_csv(\"data/test.csv\")\n",
    "\n",
    "train.head()\n"
   ],
   "metadata": {
    "collapsed": false,
    "ExecuteTime": {
     "end_time": "2023-12-06T13:07:41.513978500Z",
     "start_time": "2023-12-06T13:07:35.778191200Z"
    }
   },
   "id": "1d1e6d074816ca88"
  },
  {
   "cell_type": "markdown",
   "source": [
    "# Exploration"
   ],
   "metadata": {
    "collapsed": false
   },
   "id": "1d9ac35d4104ea93"
  },
  {
   "cell_type": "markdown",
   "source": [
    "## Datentypen"
   ],
   "metadata": {
    "collapsed": false
   },
   "id": "54126103aef13b62"
  },
  {
   "cell_type": "code",
   "execution_count": 25,
   "outputs": [
    {
     "data": {
      "text/plain": "Dates          object\nCategory       object\nDescript       object\nDayOfWeek      object\nPdDistrict     object\nResolution     object\nAddress        object\nX             float64\nY             float64\ndtype: object"
     },
     "execution_count": 25,
     "metadata": {},
     "output_type": "execute_result"
    }
   ],
   "source": [
    "train.dtypes"
   ],
   "metadata": {
    "collapsed": false,
    "ExecuteTime": {
     "end_time": "2023-12-06T13:11:04.597347800Z",
     "start_time": "2023-12-06T13:11:04.569041200Z"
    }
   },
   "id": "2a00e9cba968098"
  },
  {
   "cell_type": "markdown",
   "source": [
    "Hier kann man einige Datentypen konvertieren:\n",
    "\n",
    "Dates -> DateTime\n",
    "Category -> String\n",
    "Descript -> String\n",
    "DayOfWeek -> String\n",
    "PdDistrict -> String\n",
    "Resolution -> String\n",
    "\n",
    "neue Spalte für CategoryID als Integer\n",
    "neue Spalte für PdDisctrictID als Integer\n",
    "neue Spalte für DayOfWeekID als Integer\n",
    "neue Spalte für ResolutionID als Integer\n",
    "\n",
    "\n"
   ],
   "metadata": {
    "collapsed": false
   },
   "id": "96ece0cb2fbae3b"
  },
  {
   "cell_type": "markdown",
   "source": [
    "## Fehlende Werte"
   ],
   "metadata": {
    "collapsed": false
   },
   "id": "fb8da20bb2e82aaf"
  },
  {
   "cell_type": "code",
   "execution_count": 32,
   "outputs": [
    {
     "data": {
      "text/plain": "Dates         0\nCategory      0\nDescript      0\nDayOfWeek     0\nPdDistrict    0\nResolution    0\nAddress       0\nX             0\nY             0\ndtype: int64"
     },
     "execution_count": 32,
     "metadata": {},
     "output_type": "execute_result"
    }
   ],
   "source": [
    "train.isnull().sum()"
   ],
   "metadata": {
    "collapsed": false,
    "ExecuteTime": {
     "end_time": "2023-12-06T13:25:41.362975500Z",
     "start_time": "2023-12-06T13:25:41.310925Z"
    }
   },
   "id": "98c75e616b8fe6c5"
  },
  {
   "cell_type": "markdown",
   "source": [
    "Wie oben zu sehen, gibt es keine fehlenden Werte in diesem Datensatz"
   ],
   "metadata": {
    "collapsed": false
   },
   "id": "8abf57f2c9d9e20"
  }
 ],
 "metadata": {
  "kernelspec": {
   "display_name": "Python 3",
   "language": "python",
   "name": "python3"
  },
  "language_info": {
   "codemirror_mode": {
    "name": "ipython",
    "version": 2
   },
   "file_extension": ".py",
   "mimetype": "text/x-python",
   "name": "python",
   "nbconvert_exporter": "python",
   "pygments_lexer": "ipython2",
   "version": "2.7.6"
  }
 },
 "nbformat": 4,
 "nbformat_minor": 5
}
